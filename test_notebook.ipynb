{
 "cells": [
  {
   "cell_type": "code",
   "execution_count": 1,
   "metadata": {},
   "outputs": [
    {
     "name": "stdout",
     "output_type": "stream",
     "text": [
      "Training SVM...\n",
      "Fitting PCA...\n",
      "Reducing dimensionality...\n",
      "Done! New Shape: (60000, 87)\n",
      "Training SVM...\n",
      "Done! Time: 67.45s\n"
     ]
    }
   ],
   "source": [
    "from similarNumbers import App\n",
    "\n",
    "# Create the app and train the SVM\n",
    "pred = App(mnist_path=\"./uncompressed_data\")\n",
    "pred.trainSVM()\n",
    "\n",
    "# There's no need to run this part of the code every time, it's very time consuming."
   ]
  },
  {
   "cell_type": "code",
   "execution_count": 2,
   "metadata": {},
   "outputs": [
    {
     "name": "stdout",
     "output_type": "stream",
     "text": [
      "Computing accuracy on test images...\n",
      "Predicting test images...\n",
      "Done! Accuracy: 98.44%, Time: 44.73s\n"
     ]
    },
    {
     "data": {
      "text/plain": [
       "0.9844"
      ]
     },
     "execution_count": 2,
     "metadata": {},
     "output_type": "execute_result"
    }
   ],
   "source": [
    "# Compute the accuracy of the SVM\n",
    "pred.test_accuracy() # This only uses test images that have not been shown to the SVM."
   ]
  },
  {
   "cell_type": "code",
   "execution_count": 3,
   "metadata": {},
   "outputs": [
    {
     "name": "stdout",
     "output_type": "stream",
     "text": [
      "Prediction: [8] with confidence 9.31\n"
     ]
    },
    {
     "data": {
      "image/png": "[encoded data removed]",
      "text/plain": [
       "<Figure size 432x288 with 1 Axes>"
      ]
     },
     "metadata": {
      "needs_background": "light"
     },
     "output_type": "display_data"
    }
   ],
   "source": [
    "import matplotlib.pyplot as plt\n",
    "import numpy as np\n",
    "from scipy.ndimage import center_of_mass\n",
    "import cv2\n",
    "\n",
    "# A simple test using an image drawn by me on paint (a number 8)\n",
    "# The image can be changed by swapping \"Test.png\" with your own image (careful, it must be small,\n",
    "# otherwise cv2.resize will give weird results).\n",
    "\n",
    "# Load the image\n",
    "img = (1-plt.imread(\"Test.png\")[:, :, 0])*255\n",
    "\n",
    "# Resize the image\n",
    "img = cv2.resize(img, (28, 28))\n",
    "\n",
    "# Compute the center of mass\n",
    "center = center_of_mass(img)\n",
    "\n",
    "# Roll the image\n",
    "img = np.roll(img, -int(center[0]-14), axis=0)\n",
    "img = np.roll(img, -int(center[1]-14), axis=1)\n",
    "\n",
    "plt.imshow(img, cmap=\"gray\")\n",
    "\n",
    "# Predict the number\n",
    "prediction, confidence = pred.predict(img)\n",
    "print(f\"Prediction: {prediction} with confidence {confidence:.2f}\")\n",
    "# Note that confidence is not a percentage, but a distance to the decision boundary."
   ]
  }
 ],
 "metadata": {
  "interpreter": {
   "hash": "2fb8622624197ab0afdd219a89310a262bae31c27a86910cfde8345aed973ffe"
  },
  "kernelspec": {
   "display_name": "Python 3.10.4 64-bit",
   "language": "python",
   "name": "python3"
  },
  "language_info": {
   "codemirror_mode": {
    "name": "ipython",
    "version": 3
   },
   "file_extension": ".py",
   "mimetype": "text/x-python",
   "name": "python",
   "nbconvert_exporter": "python",
   "pygments_lexer": "ipython3",
   "version": "3.10.4"
  },
  "orig_nbformat": 4
 },
 "nbformat": 4,
 "nbformat_minor": 2
}
